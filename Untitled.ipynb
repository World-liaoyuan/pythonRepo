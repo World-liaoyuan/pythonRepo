{
 "cells": [
  {
   "cell_type": "code",
   "execution_count": 1,
   "id": "837626b8",
   "metadata": {},
   "outputs": [],
   "source": [
    "file1 = open(\"Example2.txt\", \"w\")\n",
    "file1.write(\"This is line A\\n\")\n",
    "file1.write(\"This is line B\\n\")\n",
    "file1.close()"
   ]
  },
  {
   "cell_type": "code",
   "execution_count": 2,
   "id": "89df6aee",
   "metadata": {},
   "outputs": [],
   "source": [
    "Lines = [\"This is lineA\\n\", \"This is lineB\\n\", \"This is lineC\\n\"]\n",
    "\n",
    "with open(\"Example2.txt\", \"w\") as file1:\n",
    "    for line in Lines:\n",
    "        file1.write(line)"
   ]
  },
  {
   "cell_type": "code",
   "execution_count": 3,
   "id": "9839500c",
   "metadata": {},
   "outputs": [],
   "source": [
    "with open(\"Example.txt\", \"r\") as readFile:\n",
    "    with open(\"Example3.txt\", \"w\") as writeFile:\n",
    "        for line in readFile:\n",
    "            writeFile.write(line)"
   ]
  },
  {
   "cell_type": "code",
   "execution_count": null,
   "id": "407243f9",
   "metadata": {},
   "outputs": [],
   "source": []
  }
 ],
 "metadata": {
  "kernelspec": {
   "display_name": "Python 3 (ipykernel)",
   "language": "python",
   "name": "python3"
  },
  "language_info": {
   "codemirror_mode": {
    "name": "ipython",
    "version": 3
   },
   "file_extension": ".py",
   "mimetype": "text/x-python",
   "name": "python",
   "nbconvert_exporter": "python",
   "pygments_lexer": "ipython3",
   "version": "3.9.13"
  },
  "toc": {
   "base_numbering": 1,
   "nav_menu": {},
   "number_sections": true,
   "sideBar": true,
   "skip_h1_title": false,
   "title_cell": "Table of Contents",
   "title_sidebar": "Contents",
   "toc_cell": false,
   "toc_position": {},
   "toc_section_display": true,
   "toc_window_display": false
  }
 },
 "nbformat": 4,
 "nbformat_minor": 5
}
