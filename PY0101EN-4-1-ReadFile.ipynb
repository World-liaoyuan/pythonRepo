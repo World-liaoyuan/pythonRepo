{
 "cells": [
  {
   "cell_type": "code",
   "execution_count": 7,
   "id": "68edbb93",
   "metadata": {},
   "outputs": [
    {
     "name": "stdout",
     "output_type": "stream",
     "text": [
      "example the first line.\n",
      "\n",
      "['example the first line.\\n', 'right here\\n', 'you are from the world\\n', 'fourth lines\\n', 'fiveth lines']\n",
      "example the first line.\n",
      "right here\n",
      "you are from the world\n",
      "fourth lines\n",
      "fiveth lines\n",
      "<class 'str'>\n",
      "['example the first line.\\n']\n"
     ]
    }
   ],
   "source": [
    "with open(\"./Example.txt\", \"r\") as file:\n",
    "    text = file.readline()\n",
    "    print(text)\n",
    "    file.seek(0)\n",
    "    texts = file.readlines()\n",
    "    print(texts)\n",
    "    file.seek(0)\n",
    "    text_form = file.read()\n",
    "    print(text_form)\n",
    "    print(type(text_form))\n",
    "    file.seek(0)\n",
    "    textForm = file.readlines(5)\n",
    "    print(textForm)\n",
    "    \n",
    "    "
   ]
  },
  {
   "cell_type": "code",
   "execution_count": 8,
   "id": "c6515c46",
   "metadata": {},
   "outputs": [
    {
     "data": {
      "text/plain": [
       "'Example.txt'"
      ]
     },
     "execution_count": 8,
     "metadata": {},
     "output_type": "execute_result"
    }
   ],
   "source": [
    "file1 = open(\"Example.txt\", \"r\")\n",
    "file1.name"
   ]
  },
  {
   "cell_type": "code",
   "execution_count": 9,
   "id": "8a4cbc99",
   "metadata": {},
   "outputs": [
    {
     "data": {
      "text/plain": [
       "'r'"
      ]
     },
     "execution_count": 9,
     "metadata": {},
     "output_type": "execute_result"
    }
   ],
   "source": [
    "file1.mode"
   ]
  },
  {
   "cell_type": "code",
   "execution_count": 10,
   "id": "87b8a163",
   "metadata": {},
   "outputs": [
    {
     "data": {
      "text/plain": [
       "'example the first line.\\nright here\\nyou are from the world\\nfourth lines\\nfiveth lines'"
      ]
     },
     "execution_count": 10,
     "metadata": {},
     "output_type": "execute_result"
    }
   ],
   "source": [
    "fileContent = file1.read()\n",
    "fileContent"
   ]
  },
  {
   "cell_type": "code",
   "execution_count": 11,
   "id": "14d742dd",
   "metadata": {},
   "outputs": [
    {
     "data": {
      "text/plain": [
       "str"
      ]
     },
     "execution_count": 11,
     "metadata": {},
     "output_type": "execute_result"
    }
   ],
   "source": [
    "type(fileContent)"
   ]
  },
  {
   "cell_type": "code",
   "execution_count": 12,
   "id": "3658b73f",
   "metadata": {},
   "outputs": [],
   "source": [
    "file1.close()"
   ]
  },
  {
   "cell_type": "code",
   "execution_count": 13,
   "id": "04ab53ef",
   "metadata": {},
   "outputs": [
    {
     "name": "stdout",
     "output_type": "stream",
     "text": [
      "first line: example the first line.\n",
      "\n"
     ]
    }
   ],
   "source": [
    "with open(\"Example.txt\", \"r\") as file1:\n",
    "    print(\"first line: \" + file1.readline())"
   ]
  },
  {
   "cell_type": "code",
   "execution_count": 15,
   "id": "25eb706c",
   "metadata": {},
   "outputs": [
    {
     "name": "stdout",
     "output_type": "stream",
     "text": [
      "examp\n",
      "le the first line.\n",
      "r\n"
     ]
    }
   ],
   "source": [
    "with open(\"Example.txt\", \"r\") as file1:\n",
    "    print(file1.readline(5))\n",
    "    print(file1.read(20))"
   ]
  },
  {
   "cell_type": "code",
   "execution_count": 16,
   "id": "103f0f3e",
   "metadata": {},
   "outputs": [
    {
     "name": "stdout",
     "output_type": "stream",
     "text": [
      "example the first line.\n",
      "\n",
      "right here\n",
      "\n",
      "you are from the world\n",
      "\n",
      "fourth lines\n",
      "\n",
      "fiveth lines\n"
     ]
    }
   ],
   "source": [
    "with open(\"Example.txt\", \"r\") as file1:\n",
    "    i = 0\n",
    "    for line in file1:\n",
    "        print(line)"
   ]
  },
  {
   "cell_type": "code",
   "execution_count": 18,
   "id": "09b67dbc",
   "metadata": {},
   "outputs": [
    {
     "name": "stdout",
     "output_type": "stream",
     "text": [
      "['example the first line.\\n', 'right here\\n', 'you are from the world\\n', 'fourth lines\\n', 'fiveth lines']\n"
     ]
    }
   ],
   "source": [
    "with open(\"Example.txt\", \"r\") as file1:\n",
    "    print(file1.readlines())"
   ]
  },
  {
   "cell_type": "code",
   "execution_count": 20,
   "id": "998b7d49",
   "metadata": {},
   "outputs": [
    {
     "name": "stdout",
     "output_type": "stream",
     "text": [
      "['example the first line.\\n']\n"
     ]
    }
   ],
   "source": [
    "with open(\"Example.txt\", \"r\") as file1:\n",
    "    print(file1.readlines(3))"
   ]
  },
  {
   "cell_type": "code",
   "execution_count": null,
   "id": "64d1c2f7",
   "metadata": {},
   "outputs": [],
   "source": []
  }
 ],
 "metadata": {
  "kernelspec": {
   "display_name": "Python 3 (ipykernel)",
   "language": "python",
   "name": "python3"
  },
  "language_info": {
   "codemirror_mode": {
    "name": "ipython",
    "version": 3
   },
   "file_extension": ".py",
   "mimetype": "text/x-python",
   "name": "python",
   "nbconvert_exporter": "python",
   "pygments_lexer": "ipython3",
   "version": "3.9.13"
  },
  "toc": {
   "base_numbering": 1,
   "nav_menu": {},
   "number_sections": true,
   "sideBar": true,
   "skip_h1_title": false,
   "title_cell": "Table of Contents",
   "title_sidebar": "Contents",
   "toc_cell": false,
   "toc_position": {},
   "toc_section_display": true,
   "toc_window_display": false
  }
 },
 "nbformat": 4,
 "nbformat_minor": 5
}
